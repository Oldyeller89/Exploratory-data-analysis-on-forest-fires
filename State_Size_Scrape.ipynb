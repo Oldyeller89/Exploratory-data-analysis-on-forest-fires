{
 "cells": [
  {
   "cell_type": "code",
   "execution_count": 1,
   "metadata": {},
   "outputs": [],
   "source": [
    "from scrapy.spiders import Spider\n",
    "\n",
    "class Scraper(Spider):\n",
    "    name = 's1'\n",
    "    #only allows spider to go to this webpage.\n",
    "    allowed_domains = [\"netstate.com\"]\n",
    "    start_urls = [ \"http://www.netstate.com/states/tables/st_size.htm\" ]\n",
    "    \n",
    "    #Parse function to read the webpage\n",
    "    def parse(self, response): #response is the webpage being sent back as a python data structure.\n",
    "        '''\n",
    "        Read the State, total sq miles, land sq miles and water sq miles\n",
    "        '''\n",
    "        rows = response.xpath(\"/html/body/table/tbody/tr[2]/td[@id='contentcolumn']/table[@id='stripedtable']/tbody[2]\") \n",
    "        basePath = 'http://www.netstate.com'\n",
    "        items = []\n",
    "        item = {}\n",
    "        item['State'] = rows.xpath(\"//tr[1]/td[2]/text()\").extract()\n",
    "        print(item['State'])\n",
    "        item['Total_Sq_Miles'] = rows.xpath(\"./tr[1]/td[3]\").extract()\n",
    "        print(item['Total_Sq_Miles'])\n",
    "        items.append(item)\n",
    "#         for row in rows: #go through each item and build up a dictionary of info.  Add to items\n",
    "#             item = {}\n",
    "#             item['State'] = row.xpath(\"./tr[1]/td[2]/text()\").extract()\n",
    "#             #item['Total_Sq_Miles'] = row.xpath(\"./tr[1]/td[3]\").extract()\n",
    "#             #item['Land_Sq_Miles'] = row.xpath(\"./tr[1]/td[5]\").extract()\n",
    "#             #item['Water_Sq_Miles'] = row.xpath(\"./tr[1]/td[7]\").extract()\n",
    "#             items.append(item)\n",
    "        return items"
   ]
  }
 ],
 "metadata": {
  "kernelspec": {
   "display_name": "Python 3",
   "language": "python",
   "name": "python3"
  },
  "language_info": {
   "codemirror_mode": {
    "name": "ipython",
    "version": 3
   },
   "file_extension": ".py",
   "mimetype": "text/x-python",
   "name": "python",
   "nbconvert_exporter": "python",
   "pygments_lexer": "ipython3",
   "version": "3.7.2"
  }
 },
 "nbformat": 4,
 "nbformat_minor": 2
}
